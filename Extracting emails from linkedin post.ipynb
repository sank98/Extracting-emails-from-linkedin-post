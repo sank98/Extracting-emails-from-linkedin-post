{
 "cells": [
  {
   "cell_type": "code",
   "execution_count": null,
   "metadata": {},
   "outputs": [],
   "source": [
    "from selenium import webdriver\n",
    "import pandas as pd\n",
    "import time\n",
    "from selenium.common.exceptions import NoSuchElementException\n",
    "from time import sleep\n",
    "import re\n",
    "#%pip install webdriver_manager"
   ]
  },
  {
   "cell_type": "code",
   "execution_count": null,
   "metadata": {},
   "outputs": [],
   "source": [
    "#Opening chrome driver\n",
    "driver = webdriver.Chrome(executable_path= r'C:\\Users\\dell\\Downloads\\chromedriver_win32\\chromedriver.exe')"
   ]
  },
  {
   "cell_type": "code",
   "execution_count": null,
   "metadata": {},
   "outputs": [],
   "source": [
    "#Opening the link\n",
    "link = \"......\"\n",
    "driver.get(link)"
   ]
  },
  {
   "cell_type": "code",
   "execution_count": null,
   "metadata": {},
   "outputs": [],
   "source": [
    "##Sign in manually"
   ]
  },
  {
   "cell_type": "code",
   "execution_count": null,
   "metadata": {},
   "outputs": [],
   "source": [
    "load_comments_class = 'comments-comments-list__load-more-comments-button'\n",
    "comment_class = 'comments-comment-item__main-content'"
   ]
  },
  {
   "cell_type": "code",
   "execution_count": null,
   "metadata": {},
   "outputs": [],
   "source": [
    "#function for loading all the comments\n",
    "def load_more_comments(load_comments_clas, drive):\n",
    "    #try:\n",
    "    load_more_button = drive.find_element_by_class_name(load_comments_clas)\n",
    "    com=1860\n",
    "    print('<',end='',flush=True)\n",
    "    while True:\n",
    "        load_more_button.click()\n",
    "        com=com+10\n",
    "        if(com%500==0):\n",
    "            print(com, end=' ',flush=True)\n",
    "        sleep(4)\n",
    "        # 5 second sleep works great for medium-speed net...you can increase if this time seems too less and program finishes before loading all comments....you may decrease till 3 if you have fast internet speed\n",
    "        try:\n",
    "            load_more_button = drive.find_element_by_class_name(load_comments_clas)\n",
    "        except:\n",
    "            print('>')\n",
    "            print(\"All comments have been displayed!\")\n",
    "            break\n",
    "        print('=',end='',flush=True)\n",
    "    #except:\n",
    "    #    print(\"All comments are displaying already!\")\n"
   ]
  },
  {
   "cell_type": "code",
   "execution_count": null,
   "metadata": {},
   "outputs": [],
   "source": [
    "#Loading the comments\n",
    "load_more_comments(load_comments_class, driver)\n",
    "print('end')"
   ]
  },
  {
   "cell_type": "code",
   "execution_count": null,
   "metadata": {},
   "outputs": [],
   "source": [
    "#extract all comments\n",
    "comments = driver.find_elements_by_class_name(comment_class)\n",
    "comments = [comment.text.strip() for comment in comments]"
   ]
  },
  {
   "cell_type": "code",
   "execution_count": null,
   "metadata": {},
   "outputs": [],
   "source": [
    "#Number of comments extracted\n",
    "len(comments)"
   ]
  },
  {
   "cell_type": "code",
   "execution_count": null,
   "metadata": {},
   "outputs": [],
   "source": [
    "#function for extracting emails from comments\n",
    "def extract_emails(comments):\n",
    "    emails = []\n",
    "    useless = []\n",
    "    for comment in comments:\n",
    "        email_match = re.findall(r'[\\w\\.-]+@[\\w\\.-]+\\.\\w+', comment)\n",
    "        if email_match:\n",
    "            emails.append(email_match)\n",
    "        else:\n",
    "            useless.append(comment)\n",
    "        #else:\n",
    "        #    emails.append('-')\n",
    "    return useless, emails"
   ]
  },
  {
   "cell_type": "code",
   "execution_count": null,
   "metadata": {},
   "outputs": [],
   "source": [
    "useless, emails = extract_emails(comments)"
   ]
  },
  {
   "cell_type": "code",
   "execution_count": null,
   "metadata": {},
   "outputs": [],
   "source": [
    "len(emails)"
   ]
  },
  {
   "cell_type": "code",
   "execution_count": null,
   "metadata": {},
   "outputs": [],
   "source": [
    "len(useless)"
   ]
  },
  {
   "cell_type": "code",
   "execution_count": null,
   "metadata": {},
   "outputs": [],
   "source": [
    "useless"
   ]
  },
  {
   "cell_type": "code",
   "execution_count": null,
   "metadata": {},
   "outputs": [],
   "source": [
    "df = pd.DataFrame(emails, columns = ['emails', 't']).drop(['t'], axis=1)"
   ]
  },
  {
   "cell_type": "code",
   "execution_count": null,
   "metadata": {},
   "outputs": [],
   "source": [
    "df.to_csv(\"emails.csv\")"
   ]
  },
  {
   "cell_type": "code",
   "execution_count": null,
   "metadata": {},
   "outputs": [],
   "source": [
    "##THE END"
   ]
  }
 ],
 "metadata": {
  "kernelspec": {
   "display_name": "Python 3",
   "language": "python",
   "name": "python3"
  },
  "language_info": {
   "codemirror_mode": {
    "name": "ipython",
    "version": 3
   },
   "file_extension": ".py",
   "mimetype": "text/x-python",
   "name": "python",
   "nbconvert_exporter": "python",
   "pygments_lexer": "ipython3",
   "version": "3.7.2"
  }
 },
 "nbformat": 4,
 "nbformat_minor": 2
}
